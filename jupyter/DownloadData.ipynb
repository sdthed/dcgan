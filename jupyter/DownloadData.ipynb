{
 "cells": [
  {
   "cell_type": "code",
   "execution_count": 8,
   "id": "8f368694-203b-4a7c-a85d-5d3cffa0f8fe",
   "metadata": {},
   "outputs": [],
   "source": [
    "import os\n",
    "import sys\n",
    "sys.path.append(\"..\")\n",
    "\n",
    "from dcgan.utils import unzip"
   ]
  },
  {
   "cell_type": "code",
   "execution_count": 10,
   "id": "3fdc63d9-18a9-4be1-85c2-4dbb18fa7bd8",
   "metadata": {},
   "outputs": [
    {
     "data": {
      "text/plain": [
       "'j'"
      ]
     },
     "execution_count": 10,
     "metadata": {},
     "output_type": "execute_result"
    }
   ],
   "source": []
  },
  {
   "cell_type": "code",
   "execution_count": 11,
   "id": "7c20386c-67d7-4591-aa68-f47018c57605",
   "metadata": {},
   "outputs": [
    {
     "name": "stdin",
     "output_type": "stream",
     "text": [
      "kaggle user_name:  svendroste\n",
      "kaggle key:  6b009ca093e14dc7f3e1dec8f21881fe\n"
     ]
    }
   ],
   "source": [
    "# kaggle credentials\n",
    "KAGGLE_USER = input(\"kaggle user_name: \").strip()\n",
    "KAGGLE_KEY = input(\"kaggle key: \").strip()"
   ]
  },
  {
   "cell_type": "code",
   "execution_count": 17,
   "id": "29378aa1-393b-4899-b6e6-559981906ca8",
   "metadata": {},
   "outputs": [
    {
     "name": "stdout",
     "output_type": "stream",
     "text": [
      "Defaulting to user installation because normal site-packages is not writeable\n",
      "Requirement already satisfied: kaggle in /Users/svendroste/.local/lib/python3.9/site-packages (1.5.12)\n",
      "Requirement already satisfied: six>=1.10 in /usr/local/miniconda3/lib/python3.9/site-packages (from kaggle) (1.15.0)\n",
      "Requirement already satisfied: tqdm in /usr/local/miniconda3/lib/python3.9/site-packages (from kaggle) (4.59.0)\n",
      "Requirement already satisfied: certifi in /usr/local/miniconda3/lib/python3.9/site-packages (from kaggle) (2020.12.5)\n",
      "Requirement already satisfied: urllib3 in /usr/local/miniconda3/lib/python3.9/site-packages (from kaggle) (1.26.4)\n",
      "Requirement already satisfied: python-slugify in /Users/svendroste/.local/lib/python3.9/site-packages (from kaggle) (5.0.2)\n",
      "Requirement already satisfied: requests in /usr/local/miniconda3/lib/python3.9/site-packages (from kaggle) (2.25.1)\n",
      "Requirement already satisfied: python-dateutil in /usr/local/miniconda3/lib/python3.9/site-packages (from kaggle) (2.8.1)\n",
      "Requirement already satisfied: text-unidecode>=1.3 in /Users/svendroste/.local/lib/python3.9/site-packages (from python-slugify->kaggle) (1.3)\n",
      "Requirement already satisfied: chardet<5,>=3.0.2 in /usr/local/miniconda3/lib/python3.9/site-packages (from requests->kaggle) (4.0.0)\n",
      "Requirement already satisfied: idna<3,>=2.5 in /usr/local/miniconda3/lib/python3.9/site-packages (from requests->kaggle) (2.10)\n",
      "Downloading best-artworks-of-all-time.zip to /Users/svendroste/Developer/deep/gan/jupyter\n",
      "100%|█████████████████████████████████████▉| 2.29G/2.29G [01:44<00:00, 22.6MB/s]\n",
      "100%|██████████████████████████████████████| 2.29G/2.29G [01:44<00:00, 23.5MB/s]\n",
      "unzipping ...\n",
      "DONE!\n"
     ]
    }
   ],
   "source": [
    "# set kaggle user and pass\n",
    "os.environ[\"KAGGLE_USERNAME\"] = KAGGLE_USER\n",
    "os.environ[\"KAGGLE_KEY\"] = KAGGLE_KEY\n",
    "\n",
    "# make data dir\n",
    "if not os.path.exists(\"../data\"):\n",
    "    os.mkdir(\"../data\")\n",
    "\n",
    "# install kaggle cli, download art dataset\n",
    "!pip install kaggle\n",
    "!kaggle datasets download -d ikarus777/best-artworks-of-all-time\n",
    "\n",
    "# unzip dataset\n",
    "file_path = \"best-artworks-of-all-time.zip\"\n",
    "target_dir = \"../data\"\n",
    "unzip(file_path, target_dir)\n",
    "os.remove(file_path)"
   ]
  }
 ],
 "metadata": {
  "kernelspec": {
   "display_name": "Python 3",
   "language": "python",
   "name": "python3"
  },
  "language_info": {
   "codemirror_mode": {
    "name": "ipython",
    "version": 3
   },
   "file_extension": ".py",
   "mimetype": "text/x-python",
   "name": "python",
   "nbconvert_exporter": "python",
   "pygments_lexer": "ipython3",
   "version": "3.9.2"
  }
 },
 "nbformat": 4,
 "nbformat_minor": 5
}
